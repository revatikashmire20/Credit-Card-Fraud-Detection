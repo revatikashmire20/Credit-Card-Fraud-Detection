{
 "cells": [
  {
   "cell_type": "code",
   "execution_count": 38,
   "id": "96089c64",
   "metadata": {},
   "outputs": [],
   "source": [
    "import numpy as np\n",
    "import pandas as pd\n",
    "import matplotlib.pyplot as plt"
   ]
  },
  {
   "cell_type": "code",
   "execution_count": 39,
   "id": "1d97b28d",
   "metadata": {},
   "outputs": [],
   "source": [
    "df = pd.read_csv('creditcard.csv')"
   ]
  },
  {
   "cell_type": "code",
   "execution_count": 40,
   "id": "ec6c8842",
   "metadata": {},
   "outputs": [
    {
     "data": {
      "text/html": [
       "<div>\n",
       "<style scoped>\n",
       "    .dataframe tbody tr th:only-of-type {\n",
       "        vertical-align: middle;\n",
       "    }\n",
       "\n",
       "    .dataframe tbody tr th {\n",
       "        vertical-align: top;\n",
       "    }\n",
       "\n",
       "    .dataframe thead th {\n",
       "        text-align: right;\n",
       "    }\n",
       "</style>\n",
       "<table border=\"1\" class=\"dataframe\">\n",
       "  <thead>\n",
       "    <tr style=\"text-align: right;\">\n",
       "      <th></th>\n",
       "      <th>Time</th>\n",
       "      <th>V1</th>\n",
       "      <th>V2</th>\n",
       "      <th>V3</th>\n",
       "      <th>V4</th>\n",
       "      <th>V5</th>\n",
       "      <th>V6</th>\n",
       "      <th>V7</th>\n",
       "      <th>V8</th>\n",
       "      <th>V9</th>\n",
       "      <th>...</th>\n",
       "      <th>V21</th>\n",
       "      <th>V22</th>\n",
       "      <th>V23</th>\n",
       "      <th>V24</th>\n",
       "      <th>V25</th>\n",
       "      <th>V26</th>\n",
       "      <th>V27</th>\n",
       "      <th>V28</th>\n",
       "      <th>Amount</th>\n",
       "      <th>Class</th>\n",
       "    </tr>\n",
       "  </thead>\n",
       "  <tbody>\n",
       "    <tr>\n",
       "      <th>0</th>\n",
       "      <td>0</td>\n",
       "      <td>-1.359807</td>\n",
       "      <td>-0.072781</td>\n",
       "      <td>2.536347</td>\n",
       "      <td>1.378155</td>\n",
       "      <td>-0.338321</td>\n",
       "      <td>0.462388</td>\n",
       "      <td>0.239599</td>\n",
       "      <td>0.098698</td>\n",
       "      <td>0.363787</td>\n",
       "      <td>...</td>\n",
       "      <td>-0.018307</td>\n",
       "      <td>0.277838</td>\n",
       "      <td>-0.110474</td>\n",
       "      <td>0.066928</td>\n",
       "      <td>0.128539</td>\n",
       "      <td>-0.189115</td>\n",
       "      <td>0.133558</td>\n",
       "      <td>-0.021053</td>\n",
       "      <td>149.62</td>\n",
       "      <td>0.0</td>\n",
       "    </tr>\n",
       "    <tr>\n",
       "      <th>1</th>\n",
       "      <td>0</td>\n",
       "      <td>1.191857</td>\n",
       "      <td>0.266151</td>\n",
       "      <td>0.166480</td>\n",
       "      <td>0.448154</td>\n",
       "      <td>0.060018</td>\n",
       "      <td>-0.082361</td>\n",
       "      <td>-0.078803</td>\n",
       "      <td>0.085102</td>\n",
       "      <td>-0.255425</td>\n",
       "      <td>...</td>\n",
       "      <td>-0.225775</td>\n",
       "      <td>-0.638672</td>\n",
       "      <td>0.101288</td>\n",
       "      <td>-0.339846</td>\n",
       "      <td>0.167170</td>\n",
       "      <td>0.125895</td>\n",
       "      <td>-0.008983</td>\n",
       "      <td>0.014724</td>\n",
       "      <td>2.69</td>\n",
       "      <td>0.0</td>\n",
       "    </tr>\n",
       "    <tr>\n",
       "      <th>2</th>\n",
       "      <td>1</td>\n",
       "      <td>-1.358354</td>\n",
       "      <td>-1.340163</td>\n",
       "      <td>1.773209</td>\n",
       "      <td>0.379780</td>\n",
       "      <td>-0.503198</td>\n",
       "      <td>1.800499</td>\n",
       "      <td>0.791461</td>\n",
       "      <td>0.247676</td>\n",
       "      <td>-1.514654</td>\n",
       "      <td>...</td>\n",
       "      <td>0.247998</td>\n",
       "      <td>0.771679</td>\n",
       "      <td>0.909412</td>\n",
       "      <td>-0.689281</td>\n",
       "      <td>-0.327642</td>\n",
       "      <td>-0.139097</td>\n",
       "      <td>-0.055353</td>\n",
       "      <td>-0.059752</td>\n",
       "      <td>378.66</td>\n",
       "      <td>0.0</td>\n",
       "    </tr>\n",
       "    <tr>\n",
       "      <th>3</th>\n",
       "      <td>1</td>\n",
       "      <td>-0.966272</td>\n",
       "      <td>-0.185226</td>\n",
       "      <td>1.792993</td>\n",
       "      <td>-0.863291</td>\n",
       "      <td>-0.010309</td>\n",
       "      <td>1.247203</td>\n",
       "      <td>0.237609</td>\n",
       "      <td>0.377436</td>\n",
       "      <td>-1.387024</td>\n",
       "      <td>...</td>\n",
       "      <td>-0.108300</td>\n",
       "      <td>0.005274</td>\n",
       "      <td>-0.190321</td>\n",
       "      <td>-1.175575</td>\n",
       "      <td>0.647376</td>\n",
       "      <td>-0.221929</td>\n",
       "      <td>0.062723</td>\n",
       "      <td>0.061458</td>\n",
       "      <td>123.50</td>\n",
       "      <td>0.0</td>\n",
       "    </tr>\n",
       "    <tr>\n",
       "      <th>4</th>\n",
       "      <td>2</td>\n",
       "      <td>-1.158233</td>\n",
       "      <td>0.877737</td>\n",
       "      <td>1.548718</td>\n",
       "      <td>0.403034</td>\n",
       "      <td>-0.407193</td>\n",
       "      <td>0.095921</td>\n",
       "      <td>0.592941</td>\n",
       "      <td>-0.270533</td>\n",
       "      <td>0.817739</td>\n",
       "      <td>...</td>\n",
       "      <td>-0.009431</td>\n",
       "      <td>0.798278</td>\n",
       "      <td>-0.137458</td>\n",
       "      <td>0.141267</td>\n",
       "      <td>-0.206010</td>\n",
       "      <td>0.502292</td>\n",
       "      <td>0.219422</td>\n",
       "      <td>0.215153</td>\n",
       "      <td>69.99</td>\n",
       "      <td>0.0</td>\n",
       "    </tr>\n",
       "  </tbody>\n",
       "</table>\n",
       "<p>5 rows × 31 columns</p>\n",
       "</div>"
      ],
      "text/plain": [
       "   Time        V1        V2        V3        V4        V5        V6        V7  \\\n",
       "0     0 -1.359807 -0.072781  2.536347  1.378155 -0.338321  0.462388  0.239599   \n",
       "1     0  1.191857  0.266151  0.166480  0.448154  0.060018 -0.082361 -0.078803   \n",
       "2     1 -1.358354 -1.340163  1.773209  0.379780 -0.503198  1.800499  0.791461   \n",
       "3     1 -0.966272 -0.185226  1.792993 -0.863291 -0.010309  1.247203  0.237609   \n",
       "4     2 -1.158233  0.877737  1.548718  0.403034 -0.407193  0.095921  0.592941   \n",
       "\n",
       "         V8        V9  ...       V21       V22       V23       V24       V25  \\\n",
       "0  0.098698  0.363787  ... -0.018307  0.277838 -0.110474  0.066928  0.128539   \n",
       "1  0.085102 -0.255425  ... -0.225775 -0.638672  0.101288 -0.339846  0.167170   \n",
       "2  0.247676 -1.514654  ...  0.247998  0.771679  0.909412 -0.689281 -0.327642   \n",
       "3  0.377436 -1.387024  ... -0.108300  0.005274 -0.190321 -1.175575  0.647376   \n",
       "4 -0.270533  0.817739  ... -0.009431  0.798278 -0.137458  0.141267 -0.206010   \n",
       "\n",
       "        V26       V27       V28  Amount  Class  \n",
       "0 -0.189115  0.133558 -0.021053  149.62    0.0  \n",
       "1  0.125895 -0.008983  0.014724    2.69    0.0  \n",
       "2 -0.139097 -0.055353 -0.059752  378.66    0.0  \n",
       "3 -0.221929  0.062723  0.061458  123.50    0.0  \n",
       "4  0.502292  0.219422  0.215153   69.99    0.0  \n",
       "\n",
       "[5 rows x 31 columns]"
      ]
     },
     "execution_count": 40,
     "metadata": {},
     "output_type": "execute_result"
    }
   ],
   "source": [
    "df.head()"
   ]
  },
  {
   "cell_type": "code",
   "execution_count": 48,
   "id": "7326a20e",
   "metadata": {},
   "outputs": [],
   "source": [
    "#EDA"
   ]
  },
  {
   "cell_type": "code",
   "execution_count": 49,
   "id": "ac9eb4e1",
   "metadata": {},
   "outputs": [
    {
     "data": {
      "text/plain": [
       "(31779, 31)"
      ]
     },
     "execution_count": 49,
     "metadata": {},
     "output_type": "execute_result"
    }
   ],
   "source": [
    "df.shape"
   ]
  },
  {
   "cell_type": "code",
   "execution_count": 50,
   "id": "cab047f7",
   "metadata": {},
   "outputs": [
    {
     "data": {
      "text/plain": [
       "Index(['Time', 'V1', 'V2', 'V3', 'V4', 'V5', 'V6', 'V7', 'V8', 'V9', 'V10',\n",
       "       'V11', 'V12', 'V13', 'V14', 'V15', 'V16', 'V17', 'V18', 'V19', 'V20',\n",
       "       'V21', 'V22', 'V23', 'V24', 'V25', 'V26', 'V27', 'V28', 'Amount',\n",
       "       'Class'],\n",
       "      dtype='object')"
      ]
     },
     "execution_count": 50,
     "metadata": {},
     "output_type": "execute_result"
    }
   ],
   "source": [
    "df.columns"
   ]
  },
  {
   "cell_type": "code",
   "execution_count": 42,
   "id": "d1ff2dda",
   "metadata": {
    "scrolled": true
   },
   "outputs": [
    {
     "data": {
      "text/plain": [
       "Time      0\n",
       "V1        0\n",
       "V2        0\n",
       "V3        0\n",
       "V4        0\n",
       "V5        0\n",
       "V6        0\n",
       "V7        1\n",
       "V8        1\n",
       "V9        1\n",
       "V10       1\n",
       "V11       1\n",
       "V12       1\n",
       "V13       1\n",
       "V14       1\n",
       "V15       1\n",
       "V16       1\n",
       "V17       1\n",
       "V18       1\n",
       "V19       1\n",
       "V20       1\n",
       "V21       1\n",
       "V22       1\n",
       "V23       1\n",
       "V24       1\n",
       "V25       1\n",
       "V26       1\n",
       "V27       1\n",
       "V28       1\n",
       "Amount    1\n",
       "Class     1\n",
       "dtype: int64"
      ]
     },
     "execution_count": 42,
     "metadata": {},
     "output_type": "execute_result"
    }
   ],
   "source": [
    "df.isnull().sum()"
   ]
  },
  {
   "cell_type": "code",
   "execution_count": 43,
   "id": "b45c5f37",
   "metadata": {},
   "outputs": [],
   "source": [
    "df.dropna(inplace = True)"
   ]
  },
  {
   "cell_type": "code",
   "execution_count": 44,
   "id": "bba005cb",
   "metadata": {},
   "outputs": [
    {
     "data": {
      "text/plain": [
       "Time      0\n",
       "V1        0\n",
       "V2        0\n",
       "V3        0\n",
       "V4        0\n",
       "V5        0\n",
       "V6        0\n",
       "V7        0\n",
       "V8        0\n",
       "V9        0\n",
       "V10       0\n",
       "V11       0\n",
       "V12       0\n",
       "V13       0\n",
       "V14       0\n",
       "V15       0\n",
       "V16       0\n",
       "V17       0\n",
       "V18       0\n",
       "V19       0\n",
       "V20       0\n",
       "V21       0\n",
       "V22       0\n",
       "V23       0\n",
       "V24       0\n",
       "V25       0\n",
       "V26       0\n",
       "V27       0\n",
       "V28       0\n",
       "Amount    0\n",
       "Class     0\n",
       "dtype: int64"
      ]
     },
     "execution_count": 44,
     "metadata": {},
     "output_type": "execute_result"
    }
   ],
   "source": [
    "df.isnull().sum()"
   ]
  },
  {
   "cell_type": "code",
   "execution_count": 45,
   "id": "0604666f",
   "metadata": {},
   "outputs": [
    {
     "data": {
      "text/html": [
       "<div>\n",
       "<style scoped>\n",
       "    .dataframe tbody tr th:only-of-type {\n",
       "        vertical-align: middle;\n",
       "    }\n",
       "\n",
       "    .dataframe tbody tr th {\n",
       "        vertical-align: top;\n",
       "    }\n",
       "\n",
       "    .dataframe thead th {\n",
       "        text-align: right;\n",
       "    }\n",
       "</style>\n",
       "<table border=\"1\" class=\"dataframe\">\n",
       "  <thead>\n",
       "    <tr style=\"text-align: right;\">\n",
       "      <th></th>\n",
       "      <th>Time</th>\n",
       "      <th>V1</th>\n",
       "      <th>V2</th>\n",
       "      <th>V3</th>\n",
       "      <th>V4</th>\n",
       "      <th>V5</th>\n",
       "      <th>V6</th>\n",
       "      <th>V7</th>\n",
       "      <th>V8</th>\n",
       "      <th>V9</th>\n",
       "      <th>...</th>\n",
       "      <th>V21</th>\n",
       "      <th>V22</th>\n",
       "      <th>V23</th>\n",
       "      <th>V24</th>\n",
       "      <th>V25</th>\n",
       "      <th>V26</th>\n",
       "      <th>V27</th>\n",
       "      <th>V28</th>\n",
       "      <th>Amount</th>\n",
       "      <th>Class</th>\n",
       "    </tr>\n",
       "  </thead>\n",
       "  <tbody>\n",
       "    <tr>\n",
       "      <th>count</th>\n",
       "      <td>31779.000000</td>\n",
       "      <td>31779.000000</td>\n",
       "      <td>31779.000000</td>\n",
       "      <td>31779.000000</td>\n",
       "      <td>31779.000000</td>\n",
       "      <td>31779.000000</td>\n",
       "      <td>31779.000000</td>\n",
       "      <td>31779.000000</td>\n",
       "      <td>31779.000000</td>\n",
       "      <td>31779.000000</td>\n",
       "      <td>...</td>\n",
       "      <td>31779.000000</td>\n",
       "      <td>31779.000000</td>\n",
       "      <td>31779.000000</td>\n",
       "      <td>31779.000000</td>\n",
       "      <td>31779.000000</td>\n",
       "      <td>31779.000000</td>\n",
       "      <td>31779.000000</td>\n",
       "      <td>31779.000000</td>\n",
       "      <td>31779.000000</td>\n",
       "      <td>31779.000000</td>\n",
       "    </tr>\n",
       "    <tr>\n",
       "      <th>mean</th>\n",
       "      <td>22328.986091</td>\n",
       "      <td>-0.212687</td>\n",
       "      <td>0.104667</td>\n",
       "      <td>0.721382</td>\n",
       "      <td>0.211223</td>\n",
       "      <td>-0.209711</td>\n",
       "      <td>0.088255</td>\n",
       "      <td>-0.120162</td>\n",
       "      <td>0.031883</td>\n",
       "      <td>0.314021</td>\n",
       "      <td>...</td>\n",
       "      <td>-0.033146</td>\n",
       "      <td>-0.119157</td>\n",
       "      <td>-0.040436</td>\n",
       "      <td>0.008409</td>\n",
       "      <td>0.134365</td>\n",
       "      <td>0.022637</td>\n",
       "      <td>0.012911</td>\n",
       "      <td>0.003384</td>\n",
       "      <td>81.115001</td>\n",
       "      <td>0.003210</td>\n",
       "    </tr>\n",
       "    <tr>\n",
       "      <th>std</th>\n",
       "      <td>12184.472200</td>\n",
       "      <td>1.854724</td>\n",
       "      <td>1.547480</td>\n",
       "      <td>1.589856</td>\n",
       "      <td>1.420712</td>\n",
       "      <td>1.408443</td>\n",
       "      <td>1.314448</td>\n",
       "      <td>1.283076</td>\n",
       "      <td>1.264390</td>\n",
       "      <td>1.250651</td>\n",
       "      <td>...</td>\n",
       "      <td>0.778376</td>\n",
       "      <td>0.640252</td>\n",
       "      <td>0.539220</td>\n",
       "      <td>0.591869</td>\n",
       "      <td>0.435709</td>\n",
       "      <td>0.508922</td>\n",
       "      <td>0.390404</td>\n",
       "      <td>0.300394</td>\n",
       "      <td>223.154481</td>\n",
       "      <td>0.056564</td>\n",
       "    </tr>\n",
       "    <tr>\n",
       "      <th>min</th>\n",
       "      <td>0.000000</td>\n",
       "      <td>-30.552380</td>\n",
       "      <td>-40.978852</td>\n",
       "      <td>-31.103685</td>\n",
       "      <td>-5.172595</td>\n",
       "      <td>-42.147898</td>\n",
       "      <td>-23.496714</td>\n",
       "      <td>-26.548144</td>\n",
       "      <td>-41.484823</td>\n",
       "      <td>-7.175097</td>\n",
       "      <td>...</td>\n",
       "      <td>-20.262054</td>\n",
       "      <td>-8.593642</td>\n",
       "      <td>-26.751119</td>\n",
       "      <td>-2.836627</td>\n",
       "      <td>-7.495741</td>\n",
       "      <td>-1.338556</td>\n",
       "      <td>-8.567638</td>\n",
       "      <td>-9.617915</td>\n",
       "      <td>0.000000</td>\n",
       "      <td>0.000000</td>\n",
       "    </tr>\n",
       "    <tr>\n",
       "      <th>25%</th>\n",
       "      <td>10971.000000</td>\n",
       "      <td>-0.956821</td>\n",
       "      <td>-0.467724</td>\n",
       "      <td>0.257073</td>\n",
       "      <td>-0.702993</td>\n",
       "      <td>-0.807345</td>\n",
       "      <td>-0.651155</td>\n",
       "      <td>-0.597343</td>\n",
       "      <td>-0.159243</td>\n",
       "      <td>-0.482553</td>\n",
       "      <td>...</td>\n",
       "      <td>-0.242905</td>\n",
       "      <td>-0.541636</td>\n",
       "      <td>-0.177032</td>\n",
       "      <td>-0.326931</td>\n",
       "      <td>-0.128724</td>\n",
       "      <td>-0.333026</td>\n",
       "      <td>-0.063132</td>\n",
       "      <td>-0.007594</td>\n",
       "      <td>6.790000</td>\n",
       "      <td>0.000000</td>\n",
       "    </tr>\n",
       "    <tr>\n",
       "      <th>50%</th>\n",
       "      <td>27330.000000</td>\n",
       "      <td>-0.246696</td>\n",
       "      <td>0.135141</td>\n",
       "      <td>0.842637</td>\n",
       "      <td>0.198563</td>\n",
       "      <td>-0.243654</td>\n",
       "      <td>-0.167862</td>\n",
       "      <td>-0.071105</td>\n",
       "      <td>0.038210</td>\n",
       "      <td>0.196750</td>\n",
       "      <td>...</td>\n",
       "      <td>-0.087460</td>\n",
       "      <td>-0.094216</td>\n",
       "      <td>-0.050669</td>\n",
       "      <td>0.062628</td>\n",
       "      <td>0.173028</td>\n",
       "      <td>-0.059277</td>\n",
       "      <td>0.008684</td>\n",
       "      <td>0.020795</td>\n",
       "      <td>20.000000</td>\n",
       "      <td>0.000000</td>\n",
       "    </tr>\n",
       "    <tr>\n",
       "      <th>75%</th>\n",
       "      <td>32941.500000</td>\n",
       "      <td>1.164211</td>\n",
       "      <td>0.776124</td>\n",
       "      <td>1.468848</td>\n",
       "      <td>1.095693</td>\n",
       "      <td>0.308335</td>\n",
       "      <td>0.474693</td>\n",
       "      <td>0.441280</td>\n",
       "      <td>0.298470</td>\n",
       "      <td>1.063590</td>\n",
       "      <td>...</td>\n",
       "      <td>0.087763</td>\n",
       "      <td>0.289984</td>\n",
       "      <td>0.075411</td>\n",
       "      <td>0.398097</td>\n",
       "      <td>0.417497</td>\n",
       "      <td>0.301347</td>\n",
       "      <td>0.089173</td>\n",
       "      <td>0.076435</td>\n",
       "      <td>73.705000</td>\n",
       "      <td>0.000000</td>\n",
       "    </tr>\n",
       "    <tr>\n",
       "      <th>max</th>\n",
       "      <td>36513.000000</td>\n",
       "      <td>1.960497</td>\n",
       "      <td>16.713389</td>\n",
       "      <td>4.101716</td>\n",
       "      <td>13.143668</td>\n",
       "      <td>34.099309</td>\n",
       "      <td>22.529298</td>\n",
       "      <td>36.677268</td>\n",
       "      <td>20.007208</td>\n",
       "      <td>10.392889</td>\n",
       "      <td>...</td>\n",
       "      <td>22.614889</td>\n",
       "      <td>5.805795</td>\n",
       "      <td>13.876221</td>\n",
       "      <td>4.014444</td>\n",
       "      <td>5.525093</td>\n",
       "      <td>3.517346</td>\n",
       "      <td>11.135740</td>\n",
       "      <td>5.678671</td>\n",
       "      <td>7879.420000</td>\n",
       "      <td>1.000000</td>\n",
       "    </tr>\n",
       "  </tbody>\n",
       "</table>\n",
       "<p>8 rows × 31 columns</p>\n",
       "</div>"
      ],
      "text/plain": [
       "               Time            V1            V2            V3            V4  \\\n",
       "count  31779.000000  31779.000000  31779.000000  31779.000000  31779.000000   \n",
       "mean   22328.986091     -0.212687      0.104667      0.721382      0.211223   \n",
       "std    12184.472200      1.854724      1.547480      1.589856      1.420712   \n",
       "min        0.000000    -30.552380    -40.978852    -31.103685     -5.172595   \n",
       "25%    10971.000000     -0.956821     -0.467724      0.257073     -0.702993   \n",
       "50%    27330.000000     -0.246696      0.135141      0.842637      0.198563   \n",
       "75%    32941.500000      1.164211      0.776124      1.468848      1.095693   \n",
       "max    36513.000000      1.960497     16.713389      4.101716     13.143668   \n",
       "\n",
       "                 V5            V6            V7            V8            V9  \\\n",
       "count  31779.000000  31779.000000  31779.000000  31779.000000  31779.000000   \n",
       "mean      -0.209711      0.088255     -0.120162      0.031883      0.314021   \n",
       "std        1.408443      1.314448      1.283076      1.264390      1.250651   \n",
       "min      -42.147898    -23.496714    -26.548144    -41.484823     -7.175097   \n",
       "25%       -0.807345     -0.651155     -0.597343     -0.159243     -0.482553   \n",
       "50%       -0.243654     -0.167862     -0.071105      0.038210      0.196750   \n",
       "75%        0.308335      0.474693      0.441280      0.298470      1.063590   \n",
       "max       34.099309     22.529298     36.677268     20.007208     10.392889   \n",
       "\n",
       "       ...           V21           V22           V23           V24  \\\n",
       "count  ...  31779.000000  31779.000000  31779.000000  31779.000000   \n",
       "mean   ...     -0.033146     -0.119157     -0.040436      0.008409   \n",
       "std    ...      0.778376      0.640252      0.539220      0.591869   \n",
       "min    ...    -20.262054     -8.593642    -26.751119     -2.836627   \n",
       "25%    ...     -0.242905     -0.541636     -0.177032     -0.326931   \n",
       "50%    ...     -0.087460     -0.094216     -0.050669      0.062628   \n",
       "75%    ...      0.087763      0.289984      0.075411      0.398097   \n",
       "max    ...     22.614889      5.805795     13.876221      4.014444   \n",
       "\n",
       "                V25           V26           V27           V28        Amount  \\\n",
       "count  31779.000000  31779.000000  31779.000000  31779.000000  31779.000000   \n",
       "mean       0.134365      0.022637      0.012911      0.003384     81.115001   \n",
       "std        0.435709      0.508922      0.390404      0.300394    223.154481   \n",
       "min       -7.495741     -1.338556     -8.567638     -9.617915      0.000000   \n",
       "25%       -0.128724     -0.333026     -0.063132     -0.007594      6.790000   \n",
       "50%        0.173028     -0.059277      0.008684      0.020795     20.000000   \n",
       "75%        0.417497      0.301347      0.089173      0.076435     73.705000   \n",
       "max        5.525093      3.517346     11.135740      5.678671   7879.420000   \n",
       "\n",
       "              Class  \n",
       "count  31779.000000  \n",
       "mean       0.003210  \n",
       "std        0.056564  \n",
       "min        0.000000  \n",
       "25%        0.000000  \n",
       "50%        0.000000  \n",
       "75%        0.000000  \n",
       "max        1.000000  \n",
       "\n",
       "[8 rows x 31 columns]"
      ]
     },
     "execution_count": 45,
     "metadata": {},
     "output_type": "execute_result"
    }
   ],
   "source": [
    "df.describe()"
   ]
  },
  {
   "cell_type": "code",
   "execution_count": 46,
   "id": "ac6f6b0e",
   "metadata": {},
   "outputs": [
    {
     "data": {
      "text/html": [
       "<div>\n",
       "<style scoped>\n",
       "    .dataframe tbody tr th:only-of-type {\n",
       "        vertical-align: middle;\n",
       "    }\n",
       "\n",
       "    .dataframe tbody tr th {\n",
       "        vertical-align: top;\n",
       "    }\n",
       "\n",
       "    .dataframe thead th {\n",
       "        text-align: right;\n",
       "    }\n",
       "</style>\n",
       "<table border=\"1\" class=\"dataframe\">\n",
       "  <thead>\n",
       "    <tr style=\"text-align: right;\">\n",
       "      <th></th>\n",
       "      <th>Time</th>\n",
       "      <th>V1</th>\n",
       "      <th>V2</th>\n",
       "      <th>V3</th>\n",
       "      <th>V4</th>\n",
       "      <th>V5</th>\n",
       "      <th>V6</th>\n",
       "      <th>V7</th>\n",
       "      <th>V8</th>\n",
       "      <th>V9</th>\n",
       "      <th>...</th>\n",
       "      <th>V20</th>\n",
       "      <th>V21</th>\n",
       "      <th>V22</th>\n",
       "      <th>V23</th>\n",
       "      <th>V24</th>\n",
       "      <th>V25</th>\n",
       "      <th>V26</th>\n",
       "      <th>V27</th>\n",
       "      <th>V28</th>\n",
       "      <th>Amount</th>\n",
       "    </tr>\n",
       "    <tr>\n",
       "      <th>Class</th>\n",
       "      <th></th>\n",
       "      <th></th>\n",
       "      <th></th>\n",
       "      <th></th>\n",
       "      <th></th>\n",
       "      <th></th>\n",
       "      <th></th>\n",
       "      <th></th>\n",
       "      <th></th>\n",
       "      <th></th>\n",
       "      <th></th>\n",
       "      <th></th>\n",
       "      <th></th>\n",
       "      <th></th>\n",
       "      <th></th>\n",
       "      <th></th>\n",
       "      <th></th>\n",
       "      <th></th>\n",
       "      <th></th>\n",
       "      <th></th>\n",
       "      <th></th>\n",
       "    </tr>\n",
       "  </thead>\n",
       "  <tbody>\n",
       "    <tr>\n",
       "      <th>0.0</th>\n",
       "      <td>31677</td>\n",
       "      <td>31677</td>\n",
       "      <td>31677</td>\n",
       "      <td>31677</td>\n",
       "      <td>31677</td>\n",
       "      <td>31677</td>\n",
       "      <td>31677</td>\n",
       "      <td>31677</td>\n",
       "      <td>31677</td>\n",
       "      <td>31677</td>\n",
       "      <td>...</td>\n",
       "      <td>31677</td>\n",
       "      <td>31677</td>\n",
       "      <td>31677</td>\n",
       "      <td>31677</td>\n",
       "      <td>31677</td>\n",
       "      <td>31677</td>\n",
       "      <td>31677</td>\n",
       "      <td>31677</td>\n",
       "      <td>31677</td>\n",
       "      <td>31677</td>\n",
       "    </tr>\n",
       "    <tr>\n",
       "      <th>1.0</th>\n",
       "      <td>102</td>\n",
       "      <td>102</td>\n",
       "      <td>102</td>\n",
       "      <td>102</td>\n",
       "      <td>102</td>\n",
       "      <td>102</td>\n",
       "      <td>102</td>\n",
       "      <td>102</td>\n",
       "      <td>102</td>\n",
       "      <td>102</td>\n",
       "      <td>...</td>\n",
       "      <td>102</td>\n",
       "      <td>102</td>\n",
       "      <td>102</td>\n",
       "      <td>102</td>\n",
       "      <td>102</td>\n",
       "      <td>102</td>\n",
       "      <td>102</td>\n",
       "      <td>102</td>\n",
       "      <td>102</td>\n",
       "      <td>102</td>\n",
       "    </tr>\n",
       "  </tbody>\n",
       "</table>\n",
       "<p>2 rows × 30 columns</p>\n",
       "</div>"
      ],
      "text/plain": [
       "        Time     V1     V2     V3     V4     V5     V6     V7     V8     V9  \\\n",
       "Class                                                                         \n",
       "0.0    31677  31677  31677  31677  31677  31677  31677  31677  31677  31677   \n",
       "1.0      102    102    102    102    102    102    102    102    102    102   \n",
       "\n",
       "       ...    V20    V21    V22    V23    V24    V25    V26    V27    V28  \\\n",
       "Class  ...                                                                  \n",
       "0.0    ...  31677  31677  31677  31677  31677  31677  31677  31677  31677   \n",
       "1.0    ...    102    102    102    102    102    102    102    102    102   \n",
       "\n",
       "       Amount  \n",
       "Class          \n",
       "0.0     31677  \n",
       "1.0       102  \n",
       "\n",
       "[2 rows x 30 columns]"
      ]
     },
     "execution_count": 46,
     "metadata": {},
     "output_type": "execute_result"
    }
   ],
   "source": [
    "df.groupby(['Class']).count()"
   ]
  },
  {
   "cell_type": "code",
   "execution_count": 47,
   "id": "e343e615",
   "metadata": {},
   "outputs": [
    {
     "data": {
      "image/png": "[encoded data removed]",
      "text/plain": [
       "<Figure size 1440x1440 with 36 Axes>"
      ]
     },
     "metadata": {
      "needs_background": "light"
     },
     "output_type": "display_data"
    }
   ],
   "source": [
    "df.hist(figsize=(20,20),color='red')\n",
    "plt.show()"
   ]
  },
  {
   "cell_type": "markdown",
   "id": "feb6612f",
   "metadata": {},
   "source": [
    "# model 1"
   ]
  },
  {
   "cell_type": "code",
   "execution_count": null,
   "id": "44f79a79",
   "metadata": {
    "collapsed": true
   },
   "outputs": [],
   "source": [
    "x= df.drop(['Time','Class'],axis=1).values\n",
    "y= df.iloc[:,-1]"
   ]
  },
  {
   "cell_type": "code",
   "execution_count": 11,
   "id": "b3860e9e",
   "metadata": {},
   "outputs": [],
   "source": [
    "from sklearn.model_selection import train_test_split"
   ]
  },
  {
   "cell_type": "code",
   "execution_count": 12,
   "id": "aa880ec0",
   "metadata": {},
   "outputs": [],
   "source": [
    "from sklearn.linear_model import LogisticRegression"
   ]
  },
  {
   "cell_type": "code",
   "execution_count": 27,
   "id": "48c1986d",
   "metadata": {},
   "outputs": [],
   "source": [
    "x_train,x_test,y_train,y_test = train_test_split(x,y,test_size=0.25,random_state=123)"
   ]
  },
  {
   "cell_type": "code",
   "execution_count": 28,
   "id": "4d504508",
   "metadata": {},
   "outputs": [],
   "source": [
    "model=LogisticRegression()"
   ]
  },
  {
   "cell_type": "code",
   "execution_count": 29,
   "id": "50011c16",
   "metadata": {},
   "outputs": [
    {
     "name": "stderr",
     "output_type": "stream",
     "text": [
      "C:\\ProgramData\\Anaconda3\\lib\\site-packages\\sklearn\\linear_model\\_logistic.py:763: ConvergenceWarning: lbfgs failed to converge (status=1):\n",
      "STOP: TOTAL NO. of ITERATIONS REACHED LIMIT.\n",
      "\n",
      "Increase the number of iterations (max_iter) or scale the data as shown in:\n",
      "    https://scikit-learn.org/stable/modules/preprocessing.html\n",
      "Please also refer to the documentation for alternative solver options:\n",
      "    https://scikit-learn.org/stable/modules/linear_model.html#logistic-regression\n",
      "  n_iter_i = _check_optimize_result(\n"
     ]
    },
    {
     "data": {
      "text/plain": [
       "LogisticRegression()"
      ]
     },
     "execution_count": 29,
     "metadata": {},
     "output_type": "execute_result"
    }
   ],
   "source": [
    "model.fit(x_train,y_train)"
   ]
  },
  {
   "cell_type": "code",
   "execution_count": 30,
   "id": "541a8f6d",
   "metadata": {},
   "outputs": [
    {
     "data": {
      "text/plain": [
       "0.9979861548143486"
      ]
     },
     "execution_count": 30,
     "metadata": {},
     "output_type": "execute_result"
    }
   ],
   "source": [
    "model.score(x_test,y_test)"
   ]
  },
  {
   "cell_type": "code",
   "execution_count": 31,
   "id": "50336f33",
   "metadata": {},
   "outputs": [
    {
     "data": {
      "text/plain": [
       "0.9978601997146933"
      ]
     },
     "execution_count": 31,
     "metadata": {},
     "output_type": "execute_result"
    }
   ],
   "source": [
    "model.score(x_train,y_train)"
   ]
  },
  {
   "cell_type": "code",
   "execution_count": 32,
   "id": "e71e217f",
   "metadata": {},
   "outputs": [],
   "source": [
    "prediction=model.predict(x_test)"
   ]
  },
  {
   "cell_type": "code",
   "execution_count": 24,
   "id": "fa0a8560",
   "metadata": {},
   "outputs": [],
   "source": [
    "from sklearn.metrics import accuracy_score"
   ]
  },
  {
   "cell_type": "code",
   "execution_count": 26,
   "id": "07bba745",
   "metadata": {},
   "outputs": [
    {
     "data": {
      "text/plain": [
       "0.9974826935179358"
      ]
     },
     "execution_count": 26,
     "metadata": {},
     "output_type": "execute_result"
    }
   ],
   "source": [
    "accuracy_score(y_test,prediction)\n"
   ]
  },
  {
   "cell_type": "markdown",
   "id": "6708bdf9",
   "metadata": {},
   "source": [
    "# #Model"
   ]
  },
  {
   "cell_type": "code",
   "execution_count": 51,
   "id": "c6530695",
   "metadata": {},
   "outputs": [],
   "source": [
    "from sklearn.svm import SVC"
   ]
  },
  {
   "cell_type": "code",
   "execution_count": 52,
   "id": "ead6be35",
   "metadata": {},
   "outputs": [],
   "source": [
    "model_svc = SVC()\n"
   ]
  },
  {
   "cell_type": "code",
   "execution_count": 54,
   "id": "a067fe3e",
   "metadata": {},
   "outputs": [
    {
     "data": {
      "text/plain": [
       "SVC()"
      ]
     },
     "execution_count": 54,
     "metadata": {},
     "output_type": "execute_result"
    }
   ],
   "source": [
    "model_svc.fit(x_train, y_train)"
   ]
  },
  {
   "cell_type": "code",
   "execution_count": 55,
   "id": "ceaa8968",
   "metadata": {},
   "outputs": [
    {
     "data": {
      "text/plain": [
       "0.9975665016363179"
      ]
     },
     "execution_count": 55,
     "metadata": {},
     "output_type": "execute_result"
    }
   ],
   "source": [
    "model_svc.score(x_train,y_train)"
   ]
  },
  {
   "cell_type": "code",
   "execution_count": 57,
   "id": "85d8a805",
   "metadata": {},
   "outputs": [
    {
     "data": {
      "text/plain": [
       "0.9978602894902454"
      ]
     },
     "execution_count": 57,
     "metadata": {},
     "output_type": "execute_result"
    }
   ],
   "source": [
    "model_svc.score(x_test,y_test)"
   ]
  },
  {
   "cell_type": "code",
   "execution_count": 58,
   "id": "b418ca82",
   "metadata": {},
   "outputs": [],
   "source": [
    "y_predict = model_svc.predict(x_test)"
   ]
  },
  {
   "cell_type": "markdown",
   "id": "cd55f91f",
   "metadata": {},
   "source": [
    "# implementing report"
   ]
  },
  {
   "cell_type": "code",
   "execution_count": 60,
   "id": "f3de16a7",
   "metadata": {},
   "outputs": [],
   "source": [
    "from sklearn.metrics import classification_report , confusion_matrix"
   ]
  },
  {
   "cell_type": "code",
   "execution_count": 61,
   "id": "4454ae0f",
   "metadata": {},
   "outputs": [],
   "source": [
    "cm = np.array(confusion_matrix(y_test, y_predict, labels=[1,0]))"
   ]
  },
  {
   "cell_type": "code",
   "execution_count": 65,
   "id": "2cd60151",
   "metadata": {},
   "outputs": [
    {
     "data": {
      "text/html": [
       "<div>\n",
       "<style scoped>\n",
       "    .dataframe tbody tr th:only-of-type {\n",
       "        vertical-align: middle;\n",
       "    }\n",
       "\n",
       "    .dataframe tbody tr th {\n",
       "        vertical-align: top;\n",
       "    }\n",
       "\n",
       "    .dataframe thead th {\n",
       "        text-align: right;\n",
       "    }\n",
       "</style>\n",
       "<table border=\"1\" class=\"dataframe\">\n",
       "  <thead>\n",
       "    <tr style=\"text-align: right;\">\n",
       "      <th></th>\n",
       "      <th>predicted fraud</th>\n",
       "      <th>predicted normal</th>\n",
       "    </tr>\n",
       "  </thead>\n",
       "  <tbody>\n",
       "    <tr>\n",
       "      <th>is Fraud</th>\n",
       "      <td>7</td>\n",
       "      <td>16</td>\n",
       "    </tr>\n",
       "    <tr>\n",
       "      <th>is Normal</th>\n",
       "      <td>1</td>\n",
       "      <td>7921</td>\n",
       "    </tr>\n",
       "  </tbody>\n",
       "</table>\n",
       "</div>"
      ],
      "text/plain": [
       "           predicted fraud  predicted normal\n",
       "is Fraud                 7                16\n",
       "is Normal                1              7921"
      ]
     },
     "execution_count": 65,
     "metadata": {},
     "output_type": "execute_result"
    }
   ],
   "source": [
    "confusion = pd.DataFrame(cm, index=['is Fraud', 'is Normal'],columns=['predicted fraud','predicted normal'])\n",
    "confusion"
   ]
  },
  {
   "cell_type": "code",
   "execution_count": 66,
   "id": "bd02d8ae",
   "metadata": {},
   "outputs": [],
   "source": [
    "import seaborn as sns"
   ]
  },
  {
   "cell_type": "code",
   "execution_count": 67,
   "id": "7a44baec",
   "metadata": {},
   "outputs": [
    {
     "data": {
      "text/plain": [
       "<AxesSubplot:>"
      ]
     },
     "execution_count": 67,
     "metadata": {},
     "output_type": "execute_result"
    },
    {
     "data": {
      "image/png": "[encoded data removed]",
      "text/plain": [
       "<Figure size 432x288 with 2 Axes>"
      ]
     },
     "metadata": {
      "needs_background": "light"
     },
     "output_type": "display_data"
    }
   ],
   "source": [
    "sns.heatmap(confusion, annot=True)\n"
   ]
  },
  {
   "cell_type": "code",
   "execution_count": 68,
   "id": "0e8bdf4d",
   "metadata": {},
   "outputs": [
    {
     "name": "stdout",
     "output_type": "stream",
     "text": [
      "              precision    recall  f1-score   support\n",
      "\n",
      "         0.0       1.00      1.00      1.00      7922\n",
      "         1.0       0.88      0.30      0.45        23\n",
      "\n",
      "    accuracy                           1.00      7945\n",
      "   macro avg       0.94      0.65      0.73      7945\n",
      "weighted avg       1.00      1.00      1.00      7945\n",
      "\n"
     ]
    }
   ],
   "source": [
    "print(classification_report(y_test, y_predict))"
   ]
  },
  {
   "cell_type": "code",
   "execution_count": null,
   "id": "ed06771d",
   "metadata": {},
   "outputs": [],
   "source": []
  }
 ],
 "metadata": {
  "kernelspec": {
   "display_name": "Python 3 (ipykernel)",
   "language": "python",
   "name": "python3"
  },
  "language_info": {
   "codemirror_mode": {
    "name": "ipython",
    "version": 3
   },
   "file_extension": ".py",
   "mimetype": "text/x-python",
   "name": "python",
   "nbconvert_exporter": "python",
   "pygments_lexer": "ipython3",
   "version": "3.9.7"
  }
 },
 "nbformat": 4,
 "nbformat_minor": 5
}
